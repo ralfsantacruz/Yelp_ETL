{
 "cells": [
  {
   "cell_type": "code",
   "execution_count": 2,
   "metadata": {},
   "outputs": [],
   "source": [
    "import tweepy\n",
    "#from config import consumer_key, consumer_secret, access_token, access_token_secret\n",
    "import json\n",
    "import pandas as pd\n",
    "from pprint import pprint\n",
    "import time"
   ]
  },
  {
   "cell_type": "code",
   "execution_count": 3,
   "metadata": {},
   "outputs": [],
   "source": [
    "consumer_key = \"R9KUOHMVV8J0u6uTg5fZEgK9u\"\n",
    "consumer_secret = \"f30qyMcmHxKdI77cPMAIh8NmBTmRfKu4SM9iS7RRf8Z5xm60rI\"\n",
    "access_token = \"164350710-72Kxra2iKyomsX4ZIuM26Op4WQcWOgBQJpMmd1wh\"\n",
    "access_token_secret = \"Epj7FBzQX6ISG9WBLd0i96py4kt8SOuzpoa16OAghHZn1\"\n",
    "\n",
    "auth = tweepy.OAuthHandler(consumer_key, consumer_secret)\n",
    "auth.set_access_token(access_token, access_token_secret)\n",
    "\n",
    "api = tweepy.API(auth)"
   ]
  },
  {
   "cell_type": "code",
   "execution_count": 4,
   "metadata": {},
   "outputs": [
    {
     "name": "stdout",
     "output_type": "stream",
     "text": [
      "78852\n"
     ]
    }
   ],
   "source": [
    "biz_names = pd.DataFrame(pd.read_csv('business_name.csv'))\n",
    "index_list = biz_names.index.tolist()\n",
    "print(len(index_list))"
   ]
  },
  {
   "cell_type": "code",
   "execution_count": 5,
   "metadata": {},
   "outputs": [],
   "source": [
    "def get_usernames():\n",
    "    \"\"\"\n",
    "    This function returns a CSV with all Twitter handles for a given search query. \n",
    "    Search queries are Yelp Businesses.\n",
    "    \"\"\"\n",
    "    twitter_handles = []\n",
    "    count = 0\n",
    "    for rows in index_list[26285:52568]:\n",
    "        if count == 0:\n",
    "            print('Starting count is zero.')\n",
    "        row = biz_names.iloc[rows]\n",
    "        search_query = row['name']\n",
    "        users = api.search_users(search_query,1,1, wait_on_rate_limit = True)\n",
    "\n",
    "        if users == []:\n",
    "            twitter_handles.append(\"NaN\")\n",
    "        else:\n",
    "            twitter_handles.append(users[0].screen_name)\n",
    "        count+=1\n",
    "        \n",
    "        time.sleep(1.1)\n",
    "        \n",
    "        if count == 899:\n",
    "            print('We have appended 899 items. Sleeping until next rate limit...')\n",
    "            count = 0\n",
    "    \n",
    "    df = pd.DataFrame(twitter_handles, columns=['Items 26285:52568'])\n",
    "    \n",
    "    return df.to_csv('twitter_handles_26285:52568.csv', index=False)"
   ]
  },
  {
   "cell_type": "code",
   "execution_count": 6,
   "metadata": {},
   "outputs": [
    {
     "name": "stdout",
     "output_type": "stream",
     "text": [
      "Starting count is zero.\n",
      "We have appended 899 items. Sleeping until next rate limit...\n",
      "Starting count is zero.\n",
      "We have appended 899 items. Sleeping until next rate limit...\n",
      "Starting count is zero.\n",
      "We have appended 899 items. Sleeping until next rate limit...\n",
      "Starting count is zero.\n",
      "We have appended 899 items. Sleeping until next rate limit...\n",
      "Starting count is zero.\n",
      "We have appended 899 items. Sleeping until next rate limit...\n",
      "Starting count is zero.\n",
      "We have appended 899 items. Sleeping until next rate limit...\n",
      "Starting count is zero.\n",
      "We have appended 899 items. Sleeping until next rate limit...\n",
      "Starting count is zero.\n",
      "We have appended 899 items. Sleeping until next rate limit...\n",
      "Starting count is zero.\n",
      "We have appended 899 items. Sleeping until next rate limit...\n",
      "Starting count is zero.\n",
      "We have appended 899 items. Sleeping until next rate limit...\n",
      "Starting count is zero.\n",
      "We have appended 899 items. Sleeping until next rate limit...\n",
      "Starting count is zero.\n",
      "We have appended 899 items. Sleeping until next rate limit...\n",
      "Starting count is zero.\n",
      "We have appended 899 items. Sleeping until next rate limit...\n",
      "Starting count is zero.\n",
      "We have appended 899 items. Sleeping until next rate limit...\n",
      "Starting count is zero.\n",
      "We have appended 899 items. Sleeping until next rate limit...\n",
      "Starting count is zero.\n",
      "We have appended 899 items. Sleeping until next rate limit...\n",
      "Starting count is zero.\n",
      "We have appended 899 items. Sleeping until next rate limit...\n",
      "Starting count is zero.\n",
      "We have appended 899 items. Sleeping until next rate limit...\n",
      "Starting count is zero.\n",
      "We have appended 899 items. Sleeping until next rate limit...\n",
      "Starting count is zero.\n",
      "We have appended 899 items. Sleeping until next rate limit...\n",
      "Starting count is zero.\n",
      "We have appended 899 items. Sleeping until next rate limit...\n",
      "Starting count is zero.\n",
      "We have appended 899 items. Sleeping until next rate limit...\n",
      "Starting count is zero.\n",
      "We have appended 899 items. Sleeping until next rate limit...\n",
      "Starting count is zero.\n",
      "We have appended 899 items. Sleeping until next rate limit...\n",
      "Starting count is zero.\n",
      "We have appended 899 items. Sleeping until next rate limit...\n",
      "Starting count is zero.\n",
      "We have appended 899 items. Sleeping until next rate limit...\n",
      "Starting count is zero.\n",
      "We have appended 899 items. Sleeping until next rate limit...\n",
      "Starting count is zero.\n",
      "We have appended 899 items. Sleeping until next rate limit...\n",
      "Starting count is zero.\n",
      "We have appended 899 items. Sleeping until next rate limit...\n",
      "Starting count is zero.\n"
     ]
    }
   ],
   "source": [
    "# Run the function to get the usernames.\n",
    "get_usernames()"
   ]
  },
  {
   "cell_type": "code",
   "execution_count": 118,
   "metadata": {},
   "outputs": [],
   "source": [
    "# count = 0\n",
    "# mylist = []\n",
    "\n",
    "# for i in range(50):\n",
    "#     mylist.append(i)\n",
    "#     count+=1\n",
    "#     print(f'the count is {count}')\n",
    "#     if count == 10:\n",
    "#         print(\"we've reached 10 counts. chilling for 5 seconds\")\n",
    "#         time.sleep(5)\n",
    "#         count = 0\n",
    "#         print('2 seconds up! resetting count to 0')\n",
    "\n",
    "# mylist\n",
    "    \n",
    "    "
   ]
  }
 ],
 "metadata": {
  "kernelspec": {
   "display_name": "Python [conda env:PythonData]",
   "language": "python",
   "name": "conda-env-PythonData-py"
  },
  "language_info": {
   "codemirror_mode": {
    "name": "ipython",
    "version": 3
   },
   "file_extension": ".py",
   "mimetype": "text/x-python",
   "name": "python",
   "nbconvert_exporter": "python",
   "pygments_lexer": "ipython3",
   "version": "3.6.5"
  }
 },
 "nbformat": 4,
 "nbformat_minor": 2
}
