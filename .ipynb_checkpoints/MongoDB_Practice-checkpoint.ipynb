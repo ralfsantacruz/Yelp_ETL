{
 "cells": [
  {
   "cell_type": "code",
   "execution_count": 1,
   "metadata": {},
   "outputs": [],
   "source": [
    "from flask import Flask, render_template\n",
    "import pymongo\n",
    "from pprint import pprint"
   ]
  },
  {
   "cell_type": "code",
   "execution_count": 2,
   "metadata": {},
   "outputs": [],
   "source": [
    "app = Flask(__name__)\n",
    "\n",
    "conn = \"mongodb://localhost:27017\"\n",
    "client = pymongo.MongoClient(conn)\n",
    "\n",
    "db = client.yelp_db\n",
    "collection = db.business"
   ]
  },
  {
   "cell_type": "code",
   "execution_count": 3,
   "metadata": {},
   "outputs": [],
   "source": [
    "businesses = collection.find_one({'city':'Phoenix'})\n",
    "cities = collection.distinct('city')\n",
    "states = collection.distinct('state')\n",
    "\n",
    "\n"
   ]
  },
  {
   "cell_type": "code",
   "execution_count": 4,
   "metadata": {},
   "outputs": [
    {
     "name": "stdout",
     "output_type": "stream",
     "text": [
      "{'_id': ObjectId('5bc23ab19930080c1edfb5a7'),\n",
      " 'address': '211 W Monroe St',\n",
      " 'attributes': None,\n",
      " 'business_id': 'bFzdJJ3wp3PZssNEsyU23g',\n",
      " 'categories': 'Insurance, Financial Services',\n",
      " 'city': 'Phoenix',\n",
      " 'hours': None,\n",
      " 'is_open': 1,\n",
      " 'latitude': 33.4499993,\n",
      " 'longitude': -112.0769793,\n",
      " 'name': 'Geico Insurance',\n",
      " 'neighborhood': '',\n",
      " 'postal_code': '85003',\n",
      " 'review_count': 8,\n",
      " 'stars': 1.5,\n",
      " 'state': 'AZ'}\n"
     ]
    }
   ],
   "source": [
    "pprint(businesses)"
   ]
  },
  {
   "cell_type": "code",
   "execution_count": null,
   "metadata": {},
   "outputs": [],
   "source": [
    "pprint(cities)"
   ]
  }
 ],
 "metadata": {
  "kernelspec": {
   "display_name": "PythonData",
   "language": "python",
   "name": "pythondata"
  },
  "language_info": {
   "codemirror_mode": {
    "name": "ipython",
    "version": 3
   },
   "file_extension": ".py",
   "mimetype": "text/x-python",
   "name": "python",
   "nbconvert_exporter": "python",
   "pygments_lexer": "ipython3",
   "version": "3.6.0"
  }
 },
 "nbformat": 4,
 "nbformat_minor": 2
}
