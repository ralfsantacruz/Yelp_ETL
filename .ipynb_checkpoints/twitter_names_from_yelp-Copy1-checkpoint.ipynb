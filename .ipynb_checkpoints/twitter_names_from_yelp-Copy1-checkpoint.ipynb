{
 "cells": [
  {
   "cell_type": "code",
   "execution_count": 1,
   "metadata": {},
   "outputs": [],
   "source": [
    "import tweepy\n",
    "from config import consumer_key, consumer_secret, access_token, access_token_secret\n",
    "import json\n",
    "import pandas as pd\n",
    "from pprint import pprint\n",
    "import time\n",
    "import csv"
   ]
  },
  {
   "cell_type": "code",
   "execution_count": 2,
   "metadata": {},
   "outputs": [],
   "source": [
    "auth = tweepy.OAuthHandler(consumer_key, consumer_secret)\n",
    "auth.set_access_token(access_token, access_token_secret)\n",
    "\n",
    "api = tweepy.API(auth)"
   ]
  },
  {
   "cell_type": "code",
   "execution_count": 14,
   "metadata": {},
   "outputs": [
    {
     "data": {
      "text/html": [
       "<div>\n",
       "<style scoped>\n",
       "    .dataframe tbody tr th:only-of-type {\n",
       "        vertical-align: middle;\n",
       "    }\n",
       "\n",
       "    .dataframe tbody tr th {\n",
       "        vertical-align: top;\n",
       "    }\n",
       "\n",
       "    .dataframe thead th {\n",
       "        text-align: right;\n",
       "    }\n",
       "</style>\n",
       "<table border=\"1\" class=\"dataframe\">\n",
       "  <thead>\n",
       "    <tr style=\"text-align: right;\">\n",
       "      <th></th>\n",
       "      <th>name</th>\n",
       "      <th>city</th>\n",
       "      <th>state</th>\n",
       "    </tr>\n",
       "  </thead>\n",
       "  <tbody>\n",
       "    <tr>\n",
       "      <th>0</th>\n",
       "      <td>Geico Insurance</td>\n",
       "      <td>Phoenix</td>\n",
       "      <td>AZ</td>\n",
       "    </tr>\n",
       "    <tr>\n",
       "      <th>1</th>\n",
       "      <td>The Coffee Bean &amp; Tea Leaf</td>\n",
       "      <td>Phoenix</td>\n",
       "      <td>AZ</td>\n",
       "    </tr>\n",
       "    <tr>\n",
       "      <th>2</th>\n",
       "      <td>Maggie &amp; Stella's Gifts</td>\n",
       "      <td>Pittsburgh</td>\n",
       "      <td>PA</td>\n",
       "    </tr>\n",
       "    <tr>\n",
       "      <th>3</th>\n",
       "      <td>Original Hamburger Works</td>\n",
       "      <td>Phoenix</td>\n",
       "      <td>AZ</td>\n",
       "    </tr>\n",
       "    <tr>\n",
       "      <th>4</th>\n",
       "      <td>Citi Trends</td>\n",
       "      <td>Las Vegas</td>\n",
       "      <td>NV</td>\n",
       "    </tr>\n",
       "  </tbody>\n",
       "</table>\n",
       "</div>"
      ],
      "text/plain": [
       "                         name        city state\n",
       "0             Geico Insurance     Phoenix    AZ\n",
       "1  The Coffee Bean & Tea Leaf     Phoenix    AZ\n",
       "2     Maggie & Stella's Gifts  Pittsburgh    PA\n",
       "3    Original Hamburger Works     Phoenix    AZ\n",
       "4                 Citi Trends   Las Vegas    NV"
      ]
     },
     "execution_count": 14,
     "metadata": {},
     "output_type": "execute_result"
    }
   ],
   "source": [
    "biz_names = pd.DataFrame(pd.read_csv('business_name.csv'))\n",
    "index_list = biz_names.index.tolist()\n",
    "# print(len(index_list))\n",
    "\n",
    "biz_names.head()"
   ]
  },
  {
   "cell_type": "code",
   "execution_count": 4,
   "metadata": {},
   "outputs": [],
   "source": [
    "def append_csv(data, filename):\n",
    "    with open(filename, 'a', newline='') as outfile:\n",
    "        writer = csv.writer(outfile)\n",
    "        writer.writerow(data)"
   ]
  },
  {
   "cell_type": "code",
   "execution_count": 13,
   "metadata": {},
   "outputs": [],
   "source": [
    "def scrape_users(index_start,index_end):\n",
    "    \n",
    "    \"\"\"\n",
    "    This function appends a CSV with Twitter handles for a given Yelp Business. \n",
    "    Search queries are Yelp Businesses in this case.\n",
    "    User specifies how many items to iterate through via 'index_end'\n",
    "    \"\"\"\n",
    "    \n",
    "    while index_start < index_end:\n",
    "        try:\n",
    "            for index in index_list[index_start:index_end]:\n",
    "                twitter_handles = []\n",
    "                \n",
    "                # Initialize scraping\n",
    "                if index_start == 0:\n",
    "                    print('Initializing Twitter Screen Name Scrape...')\n",
    "                else:\n",
    "                    print('Resetting rate limit count back to 0')\n",
    "                \n",
    "                # Searching by name of business. Value is obtained by locating value for 'name' column for the given row\n",
    "                search_query = biz_names.iloc[index]['name']\n",
    "                \n",
    "                users = api.search_users(search_query,1,1, wait_on_rate_limit = True)\n",
    "\n",
    "                if users == []:\n",
    "                    twitter_handles.append(index_count)\n",
    "                    twitter_handles.append(\"NaN\")\n",
    "                else:\n",
    "                    twitter_handles.append(index_count)\n",
    "                    twitter_handles.append(users[0].screen_name)\n",
    "                \n",
    "                index_start +=1\n",
    "                api_call_count+=1\n",
    "                \n",
    "                # Append results as they come to a csv. Index on csv will match index list on Yelp dataframe.\n",
    "                append_csv(twitter_handles,'test.csv')\n",
    "                \n",
    "                # My API settings only allow for 900 requests every 15 minutes (900 seconds).\n",
    "                # That comes out to 1 request/second, so make request every 1.1 seconds to not get rate limit errors.\n",
    "                time.sleep(1.1)\n",
    "                \n",
    "                if count == 899:\n",
    "                    print('We have appended 899 items and hit the rate limit for now. Sleeping until Twitter rate limit is reset...')\n",
    "                    count = 0\n",
    "        except:\n",
    "            pass"
   ]
  }
 ],
 "metadata": {
  "kernelspec": {
   "display_name": "PythonData",
   "language": "python",
   "name": "pythondata"
  },
  "language_info": {
   "codemirror_mode": {
    "name": "ipython",
    "version": 3
   },
   "file_extension": ".py",
   "mimetype": "text/x-python",
   "name": "python",
   "nbconvert_exporter": "python",
   "pygments_lexer": "ipython3",
   "version": "3.6.0"
  }
 },
 "nbformat": 4,
 "nbformat_minor": 2
}
